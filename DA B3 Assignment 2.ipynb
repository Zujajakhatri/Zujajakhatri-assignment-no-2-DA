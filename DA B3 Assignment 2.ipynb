{
 "cells": [
  {
   "cell_type": "code",
   "execution_count": 8,
   "id": "655a3a01-0266-4309-be16-9cbd3bb18603",
   "metadata": {},
   "outputs": [
    {
     "name": "stdout",
     "output_type": "stream",
     "text": [
      "Modified text with underscores: hello_python_world\n",
      "Split list: ['hello', 'python', 'world']\n",
      "Result with hyphens: hello-python-world\n"
     ]
    }
   ],
   "source": [
    "# 1- \n",
    "\n",
    "# text = 'hello python world'\n",
    "\n",
    "# Replace spaces with underscores in the string (e.g., \"hello python world\" → \"hello_python_world\").\n",
    "\n",
    "# Split the modified string (e.g., \"hello_python_world\" → ['hello', 'python', 'world']).\n",
    "\n",
    "# Join the list elements with a hyphen (-) between them (e.g., ['hello', 'python', 'world'] → \"hello-python-world\").\n",
    "\n",
    "# Print all three results\n",
    "\n",
    "# Hint: Use string methods\n",
    "\n",
    "\n",
    "text = 'hello python world'\n",
    "\n",
    "# Replace spaces with underscores\n",
    "modifiedtext = text.replace(' ', '_')\n",
    "print(\"Modified text with underscores:\", modified_text)\n",
    "\n",
    "# Split the modified string by underscores\n",
    "split_list = modified_text.split('_')\n",
    "print(\"Split list:\", split_list)\n",
    "\n",
    "# Join the list elements with a hyphen\n",
    "with_hyphen = '-'.join(split_list)\n",
    "print(\"Result with hyphens:\", with_hyphen)\n"
   ]
  },
  {
   "cell_type": "code",
   "execution_count": 10,
   "id": "7c0bdc6a-1bd4-4b92-a750-55973f5bb086",
   "metadata": {},
   "outputs": [
    {
     "name": "stdout",
     "output_type": "stream",
     "text": [
      "True\n"
     ]
    }
   ],
   "source": [
    "# 2- Check if a string has more than 5 characters. Return True/False\n",
    "\n",
    "# word = \"Javascript\"\n",
    "\n",
    "word = 'Javascript'\n",
    "print (len(word) > 5)"
   ]
  },
  {
   "cell_type": "code",
   "execution_count": 15,
   "id": "dda0518f-9d3e-4217-9027-f969b9645f83",
   "metadata": {},
   "outputs": [
    {
     "name": "stdout",
     "output_type": "stream",
     "text": [
      "the true statement is:  True\n",
      "the false statement is:  False\n"
     ]
    }
   ],
   "source": [
    "# 3- Check if a number is even and greater than 10. Return True/False\n",
    "\n",
    "# num2 = 12\n",
    "\n",
    "num2 = 12\n",
    "print (\"the true statement is: \",num2*2 and num2>10)\n",
    "print (\"the false statement is: \", num2*2 and num2==10)\n",
    "\n"
   ]
  },
  {
   "cell_type": "code",
   "execution_count": 17,
   "id": "799e8e2a-0e18-49ec-9735-eadfb01b65ce",
   "metadata": {},
   "outputs": [
    {
     "name": "stdout",
     "output_type": "stream",
     "text": [
      "this statement is:  True\n"
     ]
    }
   ],
   "source": [
    "# 4- Check if a number is less than 5 or greater than 20. Return True/False\n",
    "\n",
    "# num3 = 3\n",
    "\n",
    "num3 = 3\n",
    "print (\"this statement is: \",num3<5 or num3>20)\n",
    "\n"
   ]
  },
  {
   "cell_type": "code",
   "execution_count": 26,
   "id": "56e5b4dc-bf89-4b1c-9c31-96f7285e9eb4",
   "metadata": {},
   "outputs": [
    {
     "name": "stdout",
     "output_type": "stream",
     "text": [
      "True\n"
     ]
    }
   ],
   "source": [
    "# 5- Check if a person’s age is between 18 and 65 and if they have a valid ID\n",
    "\n",
    "# age = 25\n",
    "\n",
    "# has_id = True\n",
    "\n",
    "age = 25\n",
    "has_id = True\n",
    "\n",
    "print(age >= 18 and age <= 65 and has_id == True)"
   ]
  },
  {
   "cell_type": "code",
   "execution_count": 32,
   "id": "c697b214-eb5b-4c98-96b9-2114097e139f",
   "metadata": {},
   "outputs": [
    {
     "name": "stdout",
     "output_type": "stream",
     "text": [
      "True\n"
     ]
    }
   ],
   "source": [
    "# 6-Write a script to check if a string starts with (http://) or (https://)\n",
    "\n",
    "# url = \"https://www.example.com\"\n",
    "\n",
    "url = \"https://www.example.com\"\n",
    "\n",
    "print (url.startswith (\"https://\") or url.startswith (\"http://\"))"
   ]
  },
  {
   "cell_type": "code",
   "execution_count": 34,
   "id": "af51ae17-c15f-49a6-acbc-111e0242567c",
   "metadata": {},
   "outputs": [
    {
     "name": "stdout",
     "output_type": "stream",
     "text": [
      "the discounted price will be:  90.0\n"
     ]
    }
   ],
   "source": [
    "# 7- Write a script that applies a 10% discount to an item's price. (Using Assignment Operator)\n",
    "\n",
    "# price = 100\n",
    "\n",
    "price = 100\n",
    "price -= price * 0.10\n",
    "print (\"the discounted price will be: \", price)"
   ]
  },
  {
   "cell_type": "code",
   "execution_count": 43,
   "id": "cd912720-0499-4387-8f1d-764482d8628c",
   "metadata": {},
   "outputs": [
    {
     "name": "stdout",
     "output_type": "stream",
     "text": [
      "False\n"
     ]
    }
   ],
   "source": [
    "# 8- You are managing different customer lists for a subscription service, check if alice@example.com is our both premium and basic customer\n",
    "\n",
    "# premium_customers = [\"alice@example.com\", \"charlie@example.com\", \"bob@example.com\"]\n",
    "\n",
    "# basic_customers = [\"alex@example.com\", \"david@example.com\", \"chloe@example.com\"]\n",
    "\n",
    "premium_customers = [\"alice@example.com\", \"charlie@example.com\", \"bob@example.com\"]\n",
    "basic_customers = [\"alex@example.com\", \"david@example.com\", \"chloe@example.com\"]\n",
    "\n",
    "check_alice = (\"alice@example.com\" in premium_customers and \"alice@example.com\" in basic_customers)\n",
    "print(check_alice)"
   ]
  },
  {
   "cell_type": "code",
   "execution_count": 108,
   "id": "48c48190-e02e-4b03-978d-e6658ab8826d",
   "metadata": {},
   "outputs": [
    {
     "name": "stdin",
     "output_type": "stream",
     "text": [
      "enter password: ZUJAJA@123\n"
     ]
    },
    {
     "name": "stdout",
     "output_type": "stream",
     "text": [
      "True\n",
      "True\n",
      "False\n",
      "True\n"
     ]
    }
   ],
   "source": [
    "# 9. Write a Python program that prompts the user to enter a password and returns True or False based on the following checks:\n",
    "\n",
    "# Whether the string contains any uppercase characters.\n",
    "\n",
    "# Whether the string contains any lowercase characters.\n",
    "\n",
    "# Whether the string contains any spaces.\n",
    "\n",
    "# Whether the string contains any special characters (anything other than letters, digits, and spaces).\n",
    "\n",
    "\n",
    "\n",
    "# Hint: Use Input function and string methods\n",
    "\n",
    "\n",
    "password= input(\"enter password:\")\n",
    "\n",
    "# the string contains any uppercase characters.\n",
    "upper = password != password.isupper()\n",
    "print (upper)\n",
    "\n",
    "# Whether the string contains any lowercase characters.\n",
    "lower = password != password.islower()\n",
    "print (lower)\n",
    "\n",
    "# Whether the string contains any spaces.\n",
    "space = \" \" in password\n",
    "print(space)\n",
    "\n",
    "# Whether the string contains any special characters (anything other than letters, digits, and spaces).\n",
    "sp_char = password != password.isalnum() and password != password.isspace()\n",
    "print(sp_char)"
   ]
  },
  {
   "cell_type": "code",
   "execution_count": 106,
   "id": "eaa7e353-d1ad-4f6c-83be-103ba0871d95",
   "metadata": {},
   "outputs": [
    {
     "name": "stdout",
     "output_type": "stream",
     "text": [
      "First dash position: 3\n",
      "Number of dashes: 2\n",
      "Numeric part: 12345\n"
     ]
    }
   ],
   "source": [
    "# 10- You have a product code that follows the format \"SKU-12345-XYZ\". \n",
    "\n",
    "# Find the first position of the dash (-).\n",
    "\n",
    "# Count the number of dashes (-) in the product code.\n",
    "\n",
    "# Remove the \"SKU-\" prefix and \"-XYZ\" suffix from the product code, Extract the numeric part 12345\n",
    "\n",
    "# Hint: Use String Methods\n",
    "\n",
    "product_code = \"SKU-12345-XYZ\"\n",
    "\n",
    "# first position of the dash (-)\n",
    "first_dash_index = product_code.find('-')\n",
    "print(\"First dash position:\", first_dash_index)\n",
    "\n",
    "# number of dashes (-)\n",
    "dash_count = product_code.count('-')\n",
    "print(\"Number of dashes:\", dash_count)\n",
    "\n",
    "# Remove \"SKU-\" and \"-XYZ\" to extract the numeric part \"12345\"\n",
    "numeric_part = product_code.removeprefix(\"SKU-\").removesuffix(\"-XYZ\")\n",
    "print(\"Numeric part:\", numeric_part)\n"
   ]
  },
  {
   "cell_type": "code",
   "execution_count": null,
   "id": "c064bb35-c62c-46d6-bcef-524037f4428e",
   "metadata": {},
   "outputs": [],
   "source": []
  }
 ],
 "metadata": {
  "kernelspec": {
   "display_name": "Python 3 (ipykernel)",
   "language": "python",
   "name": "python3"
  },
  "language_info": {
   "codemirror_mode": {
    "name": "ipython",
    "version": 3
   },
   "file_extension": ".py",
   "mimetype": "text/x-python",
   "name": "python",
   "nbconvert_exporter": "python",
   "pygments_lexer": "ipython3",
   "version": "3.12.7"
  }
 },
 "nbformat": 4,
 "nbformat_minor": 5
}
